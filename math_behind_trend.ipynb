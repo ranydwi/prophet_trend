{
 "cells": [
  {
   "cell_type": "markdown",
   "metadata": {},
   "source": [
    "<div style=\"padding: 20px;\n",
    "  text-align: center;\n",
    "  background: #cee9ce;\n",
    "  color: #003049;\n",
    "  font-size: 14px;\">\n",
    "  <h2><b>Math Behind Trend in Prophet</b></h2>\n",
    "   <hr>\n",
    "</div>"
   ]
  },
  {
   "cell_type": "markdown",
   "metadata": {},
   "source": [
    "# Introduction\n",
    "\n",
    "**`prophet`**\n",
    " - Dikembangkan oleh facebook untuk membuat pemodelan data time series lebih mudah diakses oleh non ekspert.\n",
    " - Pendekatan yang sederhana sehingga mudah dipahami dan cocok untuk pemula\n",
    " - `prophet` memanfaatkan GAM yang menambahkan efek hari libur untuk memodelkan jadwal yang tidak teratur.\n",
    "\n",
    "\n",
    "**General Additive Model (GAM)**\n",
    "Salah satu kemajuan terbaru dalam pemodelan data time series yang memandang time series sebagai hasil penjumlahan dari komponennya: \n",
    "> $Y(t) = T(t) + S(t) + E(t)$\n",
    "- **Trend (T)**: Pergerakan jangka panjang dalam nilai rata-ratanya.\n",
    "- **Seasonality (S)**: Efek musiman berulang.\n",
    "- **Residuals (E)**: Komponen tak teratur atau fluktuasi acak yang tidak dijelaskan oleh tren dan musiman."
   ]
  },
  {
   "cell_type": "markdown",
   "metadata": {},
   "source": [
    "# Goal\n",
    "\n",
    "**Tujuan utama artikel ini adalah untuk:** Memahami model trend yang digunakan Prophet: Menjelaskan secara mendalam persamaan matematis dan konsep di balik model trend Prophet, seperti trend linear, logistik, dan musiman."
   ]
  },
  {
   "cell_type": "code",
   "execution_count": 1,
   "metadata": {},
   "outputs": [
    {
     "data": {
      "text/html": [
       "<div>\n",
       "<style scoped>\n",
       "    .dataframe tbody tr th:only-of-type {\n",
       "        vertical-align: middle;\n",
       "    }\n",
       "\n",
       "    .dataframe tbody tr th {\n",
       "        vertical-align: top;\n",
       "    }\n",
       "\n",
       "    .dataframe thead th {\n",
       "        text-align: right;\n",
       "    }\n",
       "</style>\n",
       "<table border=\"1\" class=\"dataframe\">\n",
       "  <thead>\n",
       "    <tr style=\"text-align: right;\">\n",
       "      <th></th>\n",
       "      <th>date</th>\n",
       "      <th>shop_id</th>\n",
       "      <th>total_qty</th>\n",
       "      <th>total_revenue</th>\n",
       "    </tr>\n",
       "  </thead>\n",
       "  <tbody>\n",
       "    <tr>\n",
       "      <th>0</th>\n",
       "      <td>2013-01-02</td>\n",
       "      <td>31</td>\n",
       "      <td>568.0</td>\n",
       "      <td>396376.10</td>\n",
       "    </tr>\n",
       "    <tr>\n",
       "      <th>1</th>\n",
       "      <td>2013-01-03</td>\n",
       "      <td>31</td>\n",
       "      <td>423.0</td>\n",
       "      <td>276933.11</td>\n",
       "    </tr>\n",
       "    <tr>\n",
       "      <th>2</th>\n",
       "      <td>2013-01-04</td>\n",
       "      <td>31</td>\n",
       "      <td>431.0</td>\n",
       "      <td>286408.00</td>\n",
       "    </tr>\n",
       "    <tr>\n",
       "      <th>3</th>\n",
       "      <td>2013-01-05</td>\n",
       "      <td>31</td>\n",
       "      <td>415.0</td>\n",
       "      <td>273245.00</td>\n",
       "    </tr>\n",
       "    <tr>\n",
       "      <th>4</th>\n",
       "      <td>2013-01-06</td>\n",
       "      <td>31</td>\n",
       "      <td>435.0</td>\n",
       "      <td>260775.00</td>\n",
       "    </tr>\n",
       "    <tr>\n",
       "      <th>...</th>\n",
       "      <td>...</td>\n",
       "      <td>...</td>\n",
       "      <td>...</td>\n",
       "      <td>...</td>\n",
       "    </tr>\n",
       "    <tr>\n",
       "      <th>1026</th>\n",
       "      <td>2015-10-27</td>\n",
       "      <td>31</td>\n",
       "      <td>123.0</td>\n",
       "      <td>111851.00</td>\n",
       "    </tr>\n",
       "    <tr>\n",
       "      <th>1027</th>\n",
       "      <td>2015-10-28</td>\n",
       "      <td>31</td>\n",
       "      <td>117.0</td>\n",
       "      <td>180557.00</td>\n",
       "    </tr>\n",
       "    <tr>\n",
       "      <th>1028</th>\n",
       "      <td>2015-10-29</td>\n",
       "      <td>31</td>\n",
       "      <td>152.0</td>\n",
       "      <td>103456.00</td>\n",
       "    </tr>\n",
       "    <tr>\n",
       "      <th>1029</th>\n",
       "      <td>2015-10-30</td>\n",
       "      <td>31</td>\n",
       "      <td>267.0</td>\n",
       "      <td>204317.00</td>\n",
       "    </tr>\n",
       "    <tr>\n",
       "      <th>1030</th>\n",
       "      <td>2015-10-31</td>\n",
       "      <td>31</td>\n",
       "      <td>249.0</td>\n",
       "      <td>237587.00</td>\n",
       "    </tr>\n",
       "  </tbody>\n",
       "</table>\n",
       "<p>1031 rows × 4 columns</p>\n",
       "</div>"
      ],
      "text/plain": [
       "           date  shop_id  total_qty  total_revenue\n",
       "0    2013-01-02       31      568.0      396376.10\n",
       "1    2013-01-03       31      423.0      276933.11\n",
       "2    2013-01-04       31      431.0      286408.00\n",
       "3    2013-01-05       31      415.0      273245.00\n",
       "4    2013-01-06       31      435.0      260775.00\n",
       "...         ...      ...        ...            ...\n",
       "1026 2015-10-27       31      123.0      111851.00\n",
       "1027 2015-10-28       31      117.0      180557.00\n",
       "1028 2015-10-29       31      152.0      103456.00\n",
       "1029 2015-10-30       31      267.0      204317.00\n",
       "1030 2015-10-31       31      249.0      237587.00\n",
       "\n",
       "[1031 rows x 4 columns]"
      ]
     },
     "execution_count": 1,
     "metadata": {},
     "output_type": "execute_result"
    }
   ],
   "source": [
    "import pandas as pd\n",
    "daily_sales_31 = pd.read_csv(\"data/daily_sales_31.csv\", parse_dates=['date'])\n",
    "daily_sales_31"
   ]
  },
  {
   "cell_type": "markdown",
   "metadata": {},
   "source": [
    "# Trend Component\n",
    "\n",
    "🔎 **Definisi**\n",
    "> Menggambarkan pergerakan jangka panjang dalam data\n",
    "\n",
    "🔎 **Arah Tren**\n",
    "> Dapat bergerak ke atas (tren naik) atau ke bawah (tren turun)\n",
    ">> - Tren naik mengindikasikan peningkatan nilai dari waktu ke waktu, \n",
    ">> - Tren turun menunjukkan penurunan nilai.\n",
    "\n",
    "🔎 **Tren vs. Fluktuasi**\n",
    "> Tren harus dibedakan dari fluktuasi. Tren adalah perubahan jangka panjang, sedangkan fluktuasi adalah perubahan jangka pendek.\n",
    "\n",
    "🔻 **Visualisasi Prophet dalam Menghasilkan Tren**"
   ]
  },
  {
   "cell_type": "code",
   "execution_count": 2,
   "metadata": {},
   "outputs": [
    {
     "name": "stderr",
     "output_type": "stream",
     "text": [
      "C:\\Users\\Lenovo\\AppData\\Local\\Temp\\ipykernel_20220\\90503174.py:16: UserWarning: set_ticklabels() should only be used with a fixed number of ticks, i.e. after set_ticks() or using a FixedLocator.\n",
      "  ax.set_xticklabels(new_labels)\n"
     ]
    },
    {
     "data": {
      "image/png": "[encoded data removed]",
      "text/plain": [
       "<Figure size 1000x500 with 1 Axes>"
      ]
     },
     "metadata": {},
     "output_type": "display_data"
    }
   ],
   "source": [
    "# for illustration purposes only\n",
    "from datetime import date\n",
    "import matplotlib.pyplot as plt\n",
    "import seaborn as sns\n",
    "\n",
    "## prepare data\n",
    "daily_sales_31_copy = daily_sales_31.copy()\n",
    "daily_sales_31_copy['date_ordinal'] = daily_sales_31_copy['date'].apply(lambda date: date.toordinal())\n",
    "\n",
    "## visualize regression line\n",
    "plt.figure(figsize=(10, 5))\n",
    "ax = sns.regplot(x='date_ordinal', y='total_qty', data=daily_sales_31_copy,\n",
    "            scatter_kws={'color': 'black', 's': 2},\n",
    "            line_kws={'color': 'red'})\n",
    "new_labels = [date.fromordinal(int(item)) for item in ax.get_xticks()]\n",
    "ax.set_xticklabels(new_labels)\n",
    "plt.xlabel('date')\n",
    "plt.show()"
   ]
  },
  {
   "cell_type": "markdown",
   "metadata": {},
   "source": [
    "📈 **Visualisasi Linier:** Grafik tren yang dihasilkan oleh Prophet secara default adalah garis lurus (linear) ketika ditampilkan dalam visualisasi. Ini mencerminkan model tren linier yang digunakan dalam perhitungan."
   ]
  },
  {
   "cell_type": "markdown",
   "metadata": {},
   "source": [
    "🔎 **Default Linear Tren**\n",
    "> Prophet secara default mengasumsikan bahwa tren dalam data time series adalah **tren linear**. Ini berarti Prophet memodelkan perubahan nilai data sebagai **peningkatan atau penurunan ($T(t)$) yang terjadi dengan laju yang konstan sepanjang waktu ($t$)** "
   ]
  },
  {
   "cell_type": "markdown",
   "metadata": {},
   "source": [
    "# Mathematics Behind Trend\n",
    "\n",
    "**Rumus Tren Default:** Secara matematis, rumus tren default dalam Prophet adalah:\n",
    "   \n",
    "   $T(t) = \\beta_0 + \\beta_1 \\cdot t$\n",
    "   \n",
    "   Di mana:\n",
    "   - $T(t)$ adalah nilai tren pada waktu $t$.\n",
    "   - $\\beta_0$ adalah intercept (potongan garis tren).\n",
    "   - $\\beta_1$ adalah koefisien kemiringan (slope) yang menunjukkan tingkat perubahan tren seiring waktu.\n",
    "\n",
    "**Tren Naik dan Turun:** \n",
    "> Koefisien $\\beta_1$ dalam rumus di atas menentukan apakah tren adalah tren naik ($\\beta_1 > 0$) atau tren turun ($\\beta_1 < 0$). Nilai $\\beta_1$ menggambarkan tingkat perubahan tren dalam unit data per unit waktu.\n",
    "\n"
   ]
  },
  {
   "cell_type": "markdown",
   "metadata": {},
   "source": [
    "Model linear pada trend akan membuat sebuah garis lurus melintasi sumbu x menggunakan metode ordinary least square (yaitu garisnya akan dibuat sedemikian rupa agar terdapat beda paling sedikit antara garis dengan nilai sesungguhnya dan menghasilkan perata-rataan yang berubah terhadap waktu). Konsepnya adalah membuat sebuah garis regresi linear dengan perumusan:\n",
    "\n",
    "$$y=mx+C$$\n",
    "\n",
    "Pada kasus kita, ketika kita ingin membuat model dari komponen trend maka `y` akan menjadi `Trend`, `m` akan menjadi perbedaan setiap perubahan waktu, dan C untuk intercept. Secara perumusan akan menjadi:\n",
    "\n",
    "$$T(date)=m(date)+C$$\n",
    "\n",
    "Untuk membuat ilustrasi slope pada trend, kita dapat membuat sebuah model dengan fungsi `ols()` dari library `statsmodels`:"
   ]
  },
  {
   "cell_type": "code",
   "execution_count": 3,
   "metadata": {},
   "outputs": [
    {
     "data": {
      "text/plain": [
       "const           124413.733302\n",
       "date_ordinal        -0.168772\n",
       "dtype: float64"
      ]
     },
     "execution_count": 3,
     "metadata": {},
     "output_type": "execute_result"
    }
   ],
   "source": [
    "# import the library\n",
    "import statsmodels.api as sm\n",
    "\n",
    "# define predictor and target variable\n",
    "X = daily_sales_31_copy['date_ordinal']\n",
    "y = daily_sales_31_copy['total_qty']\n",
    "\n",
    "# build ols model\n",
    "X_train_sm = sm.add_constant(X)\n",
    "lr = sm.OLS(y, X_train_sm).fit()\n",
    "\n",
    "# printing the parameters\n",
    "lr.params"
   ]
  },
  {
   "cell_type": "markdown",
   "metadata": {},
   "source": [
    "Berdasarkan hasil summary, didapatkan persamaan linearnya:\n",
    "\n",
    "$$demand.in.qty=−0.17date+124413.733$$\n",
    "\n",
    "📝 **Insight:**\n",
    "\n",
    "- Koefisien slope (-0.17) menunjukkan bahwa terdapat tren negatif (penurunan) seiring berjalannya waktu. Setiap peningkatan unit waktu akan menyebabkan penurunan sebesar 0.17 unit dalam \"demand.in.qty.\"\n",
    "- Intercept (124413.733) adalah nilai \"demand.in.qty\" pada waktu awal (intersep sumbu Y ketika waktu = 0).\n"
   ]
  },
  {
   "cell_type": "markdown",
   "metadata": {},
   "source": [
    "<hr>\n",
    "\n",
    "<div class=\"alert alert-success\">\n",
    "  <center><b>Penyesuaian Fleksibilitas</b><br><hr>\n",
    "    Meskipun defaultnya adalah model tren linier, Prophet memungkinkan penyesuaian dan penanganan tren non-linier jika diperlukan dengan mengontrol parameter-parameter seperti <code>changepoints</code> untuk mengidentifikasi perubahan tren.</center>\n",
    "</div> "
   ]
  }
 ],
 "metadata": {
  "language_info": {
   "name": "python"
  }
 },
 "nbformat": 4,
 "nbformat_minor": 2
}
